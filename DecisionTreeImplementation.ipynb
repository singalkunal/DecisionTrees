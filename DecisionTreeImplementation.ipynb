{
 "cells": [
  {
   "cell_type": "markdown",
   "metadata": {},
   "source": [
    "### Import Statements"
   ]
  },
  {
   "cell_type": "code",
   "execution_count": 1,
   "metadata": {},
   "outputs": [],
   "source": [
    "from sklearn import datasets\n",
    "import numpy as np\n",
    "import pandas as pd\n",
    "import math as mt"
   ]
  },
  {
   "cell_type": "markdown",
   "metadata": {},
   "source": [
    "### Loading and preparing data"
   ]
  },
  {
   "cell_type": "code",
   "execution_count": 2,
   "metadata": {},
   "outputs": [],
   "source": [
    "iris = datasets.load_iris()"
   ]
  },
  {
   "cell_type": "code",
   "execution_count": 3,
   "metadata": {},
   "outputs": [],
   "source": [
    "df = pd.DataFrame(iris.data)\n",
    "df.columns = [\"sl\", \"sw\", 'pl', 'pw']\n",
    "y = pd.DataFrame(iris.target)"
   ]
  },
  {
   "cell_type": "code",
   "execution_count": 4,
   "metadata": {},
   "outputs": [],
   "source": [
    "#Function to find label for a value\n",
    "#if MIN_Value <=val < (m + Mean_Value) / 2 then it is assigned label a\n",
    "#if (m + Mean_Value) <=val < Mean_Value then it is assigned label b\n",
    "#if (Mean_Value) <=val < (Mean_Value + MAX_Value)/2 then it is assigned label c\n",
    "#if (Mean_Value + MAX_Value)/2 <=val <= MAX_Value  then it is assigned label d\n",
    "\n",
    "def label(val, *boundaries):\n",
    "    if (val < boundaries[0]):\n",
    "        return 'a'\n",
    "    elif (val < boundaries[1]):\n",
    "        return 'b'\n",
    "    elif (val < boundaries[2]):\n",
    "        return 'c'\n",
    "    else:\n",
    "        return 'd'\n",
    "\n",
    "#Function to convert a continuous data into labelled data\n",
    "#There are 4 lables  - a, b, c, d\n",
    "def toLabel(df, old_feature_name):\n",
    "    second = df[old_feature_name].mean()\n",
    "    minimum = df[old_feature_name].min()\n",
    "    first = (minimum + second)/2\n",
    "    maximum = df[old_feature_name].max()\n",
    "    third = (maximum + second)/2\n",
    "    return df[old_feature_name].apply(label, args= (first, second, third))"
   ]
  },
  {
   "cell_type": "code",
   "execution_count": 5,
   "metadata": {},
   "outputs": [
    {
     "data": {
      "text/html": [
       "<div>\n",
       "<style scoped>\n",
       "    .dataframe tbody tr th:only-of-type {\n",
       "        vertical-align: middle;\n",
       "    }\n",
       "\n",
       "    .dataframe tbody tr th {\n",
       "        vertical-align: top;\n",
       "    }\n",
       "\n",
       "    .dataframe thead th {\n",
       "        text-align: right;\n",
       "    }\n",
       "</style>\n",
       "<table border=\"1\" class=\"dataframe\">\n",
       "  <thead>\n",
       "    <tr style=\"text-align: right;\">\n",
       "      <th></th>\n",
       "      <th>sl</th>\n",
       "      <th>sw</th>\n",
       "      <th>pl</th>\n",
       "      <th>pw</th>\n",
       "      <th>sl_labeled</th>\n",
       "      <th>sw_labeled</th>\n",
       "      <th>pl_labeled</th>\n",
       "      <th>pw_labeled</th>\n",
       "    </tr>\n",
       "  </thead>\n",
       "  <tbody>\n",
       "    <tr>\n",
       "      <td>0</td>\n",
       "      <td>5.1</td>\n",
       "      <td>3.5</td>\n",
       "      <td>1.4</td>\n",
       "      <td>0.2</td>\n",
       "      <td>b</td>\n",
       "      <td>c</td>\n",
       "      <td>a</td>\n",
       "      <td>a</td>\n",
       "    </tr>\n",
       "    <tr>\n",
       "      <td>1</td>\n",
       "      <td>4.9</td>\n",
       "      <td>3.0</td>\n",
       "      <td>1.4</td>\n",
       "      <td>0.2</td>\n",
       "      <td>a</td>\n",
       "      <td>b</td>\n",
       "      <td>a</td>\n",
       "      <td>a</td>\n",
       "    </tr>\n",
       "    <tr>\n",
       "      <td>2</td>\n",
       "      <td>4.7</td>\n",
       "      <td>3.2</td>\n",
       "      <td>1.3</td>\n",
       "      <td>0.2</td>\n",
       "      <td>a</td>\n",
       "      <td>c</td>\n",
       "      <td>a</td>\n",
       "      <td>a</td>\n",
       "    </tr>\n",
       "    <tr>\n",
       "      <td>3</td>\n",
       "      <td>4.6</td>\n",
       "      <td>3.1</td>\n",
       "      <td>1.5</td>\n",
       "      <td>0.2</td>\n",
       "      <td>a</td>\n",
       "      <td>c</td>\n",
       "      <td>a</td>\n",
       "      <td>a</td>\n",
       "    </tr>\n",
       "    <tr>\n",
       "      <td>4</td>\n",
       "      <td>5.0</td>\n",
       "      <td>3.6</td>\n",
       "      <td>1.4</td>\n",
       "      <td>0.2</td>\n",
       "      <td>a</td>\n",
       "      <td>c</td>\n",
       "      <td>a</td>\n",
       "      <td>a</td>\n",
       "    </tr>\n",
       "    <tr>\n",
       "      <td>...</td>\n",
       "      <td>...</td>\n",
       "      <td>...</td>\n",
       "      <td>...</td>\n",
       "      <td>...</td>\n",
       "      <td>...</td>\n",
       "      <td>...</td>\n",
       "      <td>...</td>\n",
       "      <td>...</td>\n",
       "    </tr>\n",
       "    <tr>\n",
       "      <td>145</td>\n",
       "      <td>6.7</td>\n",
       "      <td>3.0</td>\n",
       "      <td>5.2</td>\n",
       "      <td>2.3</td>\n",
       "      <td>c</td>\n",
       "      <td>b</td>\n",
       "      <td>c</td>\n",
       "      <td>d</td>\n",
       "    </tr>\n",
       "    <tr>\n",
       "      <td>146</td>\n",
       "      <td>6.3</td>\n",
       "      <td>2.5</td>\n",
       "      <td>5.0</td>\n",
       "      <td>1.9</td>\n",
       "      <td>c</td>\n",
       "      <td>a</td>\n",
       "      <td>c</td>\n",
       "      <td>d</td>\n",
       "    </tr>\n",
       "    <tr>\n",
       "      <td>147</td>\n",
       "      <td>6.5</td>\n",
       "      <td>3.0</td>\n",
       "      <td>5.2</td>\n",
       "      <td>2.0</td>\n",
       "      <td>c</td>\n",
       "      <td>b</td>\n",
       "      <td>c</td>\n",
       "      <td>d</td>\n",
       "    </tr>\n",
       "    <tr>\n",
       "      <td>148</td>\n",
       "      <td>6.2</td>\n",
       "      <td>3.4</td>\n",
       "      <td>5.4</td>\n",
       "      <td>2.3</td>\n",
       "      <td>c</td>\n",
       "      <td>c</td>\n",
       "      <td>d</td>\n",
       "      <td>d</td>\n",
       "    </tr>\n",
       "    <tr>\n",
       "      <td>149</td>\n",
       "      <td>5.9</td>\n",
       "      <td>3.0</td>\n",
       "      <td>5.1</td>\n",
       "      <td>1.8</td>\n",
       "      <td>c</td>\n",
       "      <td>b</td>\n",
       "      <td>c</td>\n",
       "      <td>c</td>\n",
       "    </tr>\n",
       "  </tbody>\n",
       "</table>\n",
       "<p>150 rows × 8 columns</p>\n",
       "</div>"
      ],
      "text/plain": [
       "      sl   sw   pl   pw sl_labeled sw_labeled pl_labeled pw_labeled\n",
       "0    5.1  3.5  1.4  0.2          b          c          a          a\n",
       "1    4.9  3.0  1.4  0.2          a          b          a          a\n",
       "2    4.7  3.2  1.3  0.2          a          c          a          a\n",
       "3    4.6  3.1  1.5  0.2          a          c          a          a\n",
       "4    5.0  3.6  1.4  0.2          a          c          a          a\n",
       "..   ...  ...  ...  ...        ...        ...        ...        ...\n",
       "145  6.7  3.0  5.2  2.3          c          b          c          d\n",
       "146  6.3  2.5  5.0  1.9          c          a          c          d\n",
       "147  6.5  3.0  5.2  2.0          c          b          c          d\n",
       "148  6.2  3.4  5.4  2.3          c          c          d          d\n",
       "149  5.9  3.0  5.1  1.8          c          b          c          c\n",
       "\n",
       "[150 rows x 8 columns]"
      ]
     },
     "execution_count": 5,
     "metadata": {},
     "output_type": "execute_result"
    }
   ],
   "source": [
    "#Convert all columns to labelled data\n",
    "df['sl_labeled'] = toLabel(df, 'sl')\n",
    "df['sw_labeled'] = toLabel(df, 'sw')\n",
    "df['pl_labeled'] = toLabel(df, 'pl')\n",
    "df['pw_labeled'] = toLabel(df, 'pw')\n",
    "df"
   ]
  },
  {
   "cell_type": "code",
   "execution_count": 6,
   "metadata": {},
   "outputs": [],
   "source": [
    "df.drop(['sl', 'sw', 'pl', 'pw'], axis = 1, inplace = True)"
   ]
  },
  {
   "cell_type": "code",
   "execution_count": 7,
   "metadata": {},
   "outputs": [
    {
     "data": {
      "text/plain": [
       "{'a', 'b', 'c', 'd'}"
      ]
     },
     "execution_count": 7,
     "metadata": {},
     "output_type": "execute_result"
    }
   ],
   "source": [
    "set(df['sl_labeled'])"
   ]
  },
  {
   "cell_type": "markdown",
   "metadata": {},
   "source": [
    "### Helper functions"
   ]
  },
  {
   "cell_type": "code",
   "execution_count": 8,
   "metadata": {},
   "outputs": [],
   "source": [
    "# function to check if list y contains only one class\n",
    "#return true if no. of elements(unique) in set is 1\n",
    "# y is pd dataframe so first convert it to numpy array\n",
    "def ispure(y):\n",
    "    return len(set(y.values.reshape(-1))) == 1"
   ]
  },
  {
   "cell_type": "code",
   "execution_count": 9,
   "metadata": {},
   "outputs": [],
   "source": [
    "#Returns a set of counts of various classes present in y\n",
    "def class_counts(y):\n",
    "    counts = {}  #initialize dict\n",
    "    for c in y.values.reshape(-1):\n",
    "#     for c in y:\n",
    "        if c not in counts:   #if class 'c' label not already in dict\n",
    "            counts[c] = 0 \n",
    "        counts[c] += 1\n",
    "    return counts"
   ]
  },
  {
   "cell_type": "code",
   "execution_count": 10,
   "metadata": {},
   "outputs": [],
   "source": [
    "#calculates entropy/Info req\n",
    "# def entropy(y):\n",
    "#     k = len(y)  #total no. of classes\n",
    "#     entropy = float(0)\n",
    "#     counts = class_counts(y) #dict\n",
    "#     for cls in counts:  #for each unique class add -pi * log(pi) where pi = probab of ith class\n",
    "#         entropy -= (counts[cls]/k)*(mt.log(counts[cls]/k))\n",
    "#     return entropy"
   ]
  },
  {
   "cell_type": "code",
   "execution_count": 11,
   "metadata": {},
   "outputs": [],
   "source": [
    "class_counts(df.pl_labeled)\n",
    "t = df['pl_labeled'] == 'a'\n",
    "# y[t]"
   ]
  },
  {
   "cell_type": "code",
   "execution_count": 12,
   "metadata": {},
   "outputs": [],
   "source": [
    "# # split df(original dataframe of training set) \n",
    "# # and y on basis of wether value of feature f in df\n",
    "# # belongs to split_val class or not\n",
    "# def split_data(df, y, f, split_val):\n",
    "#     new_df = df.copy()  \n",
    "#     new_y = y.copy()\n",
    "#     X_f = (df[f] == split_val) # X_f will have True where featuer f == split_val class \n",
    "#     l1 = []\n",
    "#     l2 = []\n",
    "#     # l1 and l2 are lists which will store indices\n",
    "#     # to be dropped from new_y and new_df respectively\n",
    "    \n",
    "#     # Drop all rows which don't have f == k\n",
    "#     for i in range(len(X_f)):\n",
    "#         if X_f[X_f.index[i]] == False:\n",
    "#             l1.append(new_y.index[i])\n",
    "#             l2.append(new_df.index[i])\n",
    "#     new_y.drop(l1, inplace=True)\n",
    "#     new_df.drop(l2, inplace=True)\n",
    "#     return new_df,new_y"
   ]
  },
  {
   "cell_type": "code",
   "execution_count": 13,
   "metadata": {},
   "outputs": [],
   "source": [
    "# alternate approach for split_data\n",
    "def split_data(df, y, f, split_val):\n",
    "    X_f = df[f] == split_val\n",
    "    return df[X_f], y[X_f]"
   ]
  },
  {
   "cell_type": "code",
   "execution_count": 14,
   "metadata": {},
   "outputs": [
    {
     "name": "stdout",
     "output_type": "stream",
     "text": [
      "<class 'pandas.core.frame.DataFrame'> <class 'pandas.core.frame.DataFrame'>\n"
     ]
    }
   ],
   "source": [
    "# demo of split_data()\n",
    "xx, yy = split_data(df, y, 'sl_labeled', 'a')\n",
    "print(type(xx), type(yy))"
   ]
  },
  {
   "cell_type": "markdown",
   "metadata": {},
   "source": [
    "### Object Metrices (Accuracy and Info gain)"
   ]
  },
  {
   "cell_type": "code",
   "execution_count": 15,
   "metadata": {},
   "outputs": [],
   "source": [
    "# alternate approach for entropy w/o using class_counts()\n",
    "def entropy(y):\n",
    "    _, counts = np.unique(y, return_counts=True)\n",
    "    probab = counts / sum(counts)\n",
    "    return sum(probab * -np.log(probab))"
   ]
  },
  {
   "cell_type": "code",
   "execution_count": 16,
   "metadata": {},
   "outputs": [
    {
     "data": {
      "text/plain": [
       "1.0986122886681096"
      ]
     },
     "execution_count": 16,
     "metadata": {},
     "output_type": "execute_result"
    }
   ],
   "source": [
    "#demo of entropy for dataFrame \"y\"\n",
    "entropy(y)"
   ]
  },
  {
   "cell_type": "code",
   "execution_count": 17,
   "metadata": {},
   "outputs": [],
   "source": [
    "# Calc Info gain = Info_D - sum(Info_Di)\n",
    "# curr_f --> currently selected feature\n",
    "def gain(df, y, curr_f):\n",
    "    entropy_f = float(0)\n",
    "    for k in set(df[curr_f]):   #for all unique classes have a split\n",
    "        _, new_y = split_data(df, y, curr_f, k)\n",
    "        entropy_f += (len(new_y)/len(y)) * entropy(new_y)\n",
    "        \n",
    "    return entropy(y) - entropy_f"
   ]
  },
  {
   "cell_type": "code",
   "execution_count": 18,
   "metadata": {},
   "outputs": [
    {
     "name": "stdout",
     "output_type": "stream",
     "text": [
      "0.8752583089296135\n"
     ]
    },
    {
     "data": {
      "text/plain": [
       "0.2066331167565849"
      ]
     },
     "execution_count": 18,
     "metadata": {},
     "output_type": "execute_result"
    }
   ],
   "source": [
    "# demo of gain()\n",
    "print(gain(df, y, 'pw_labeled'))\n",
    "gain(df, y, 'sw_labeled')"
   ]
  },
  {
   "cell_type": "code",
   "execution_count": 19,
   "metadata": {},
   "outputs": [],
   "source": [
    "# if we predict the most common y as the output\n",
    "# find sum of all these mistakes = total - correctly predicted\n",
    "def calcMistakes(y):\n",
    "#     t = (class_counts(y).values())\n",
    "    _, t = np.unique(y, return_counts=True)\n",
    "    return sum(t) - max(t)"
   ]
  },
  {
   "cell_type": "code",
   "execution_count": 20,
   "metadata": {},
   "outputs": [
    {
     "data": {
      "text/plain": [
       "100"
      ]
     },
     "execution_count": 20,
     "metadata": {},
     "output_type": "execute_result"
    }
   ],
   "source": [
    "calcMistakes(y)"
   ]
  },
  {
   "cell_type": "code",
   "execution_count": 21,
   "metadata": {},
   "outputs": [],
   "source": [
    "# loop over possible values : val\n",
    "# find subset of df & y with f == val\n",
    "# find number of mistakes in this subset \n",
    "# if we predict the most common y as the output\n",
    "# find sum of all these mistakes thru \"calcMistakes()\"\n",
    "def accuracy(df, y, curr_f):\n",
    "#     X = df[curr_f]    # X will store curr feature's values from our training dataset\n",
    "    tot_mistakes = 0\n",
    "    for k in set(df[curr_f]):  #set results in all possible_values of elements in df for curr feature\n",
    "        _, new_y = split_data(df, y, curr_f, k)\n",
    "        tot_mistakes += calcMistakes(new_y)\n",
    "    return 1 - tot_mistakes/len(y)"
   ]
  },
  {
   "cell_type": "code",
   "execution_count": 22,
   "metadata": {},
   "outputs": [
    {
     "data": {
      "text/plain": [
       "0.6266666666666667"
      ]
     },
     "execution_count": 22,
     "metadata": {},
     "output_type": "execute_result"
    }
   ],
   "source": [
    "# demo of accuracy function\n",
    "accuracy(df, y, \"sl_labeled\")"
   ]
  },
  {
   "cell_type": "markdown",
   "metadata": {},
   "source": [
    "### More helper functions"
   ]
  },
  {
   "cell_type": "code",
   "execution_count": 23,
   "metadata": {},
   "outputs": [],
   "source": [
    "# This function finds best feature to split on\n",
    "#Can use accuracy or Info Gain\n",
    "def find_best_split(df, y, unused_features):\n",
    "    best_obj_metric = 0\n",
    "    for f in unused_features:\n",
    "        # Calc accuracy if we split on feature f\n",
    "        # Uncomment want accuracy as deciding factor\n",
    "#         curr_obj_metric  = accuracy(df, y, f) \n",
    "#         print(\"Accuracy \", f, curr_obj_metric)\n",
    "\n",
    "        # Calc Info Gain for feature f\n",
    "        curr_obj_metric = gain(df, y, f)\n",
    "#         print(\"Gain \", f, curr_obj_metric)\n",
    "        \n",
    "        # update best feature so that that particular feature\n",
    "        # makes least number of mistakes\n",
    "        if curr_obj_metric >= best_obj_metric:\n",
    "            best_feature = f\n",
    "            best_obj_metric = curr_obj_metric\n",
    "    return best_feature"
   ]
  },
  {
   "cell_type": "code",
   "execution_count": 24,
   "metadata": {},
   "outputs": [],
   "source": [
    "# This function classifies data as maximum occuring element\n",
    "def classify_data(y):\n",
    "    counts = class_counts(y)\n",
    "    return max(counts, key=counts.get)    "
   ]
  },
  {
   "cell_type": "code",
   "execution_count": 25,
   "metadata": {},
   "outputs": [
    {
     "data": {
      "text/plain": [
       "1"
      ]
     },
     "execution_count": 25,
     "metadata": {},
     "output_type": "execute_result"
    }
   ],
   "source": [
    "# ignore\n",
    "tt = {0: 23, 1: 52, 2:12}\n",
    "max(tt, key=tt.get)"
   ]
  },
  {
   "cell_type": "markdown",
   "metadata": {},
   "source": [
    "### Print Steps"
   ]
  },
  {
   "cell_type": "code",
   "execution_count": 26,
   "metadata": {},
   "outputs": [],
   "source": [
    "# function to print steps\n",
    "def print_steps(df, y, unused_features, level):\n",
    "    print(\"Level \", level)\n",
    "    print(\"unused_features: \", unused_features)\n",
    "    #base case\n",
    "    # 1. unused is empty        \n",
    "    # 2. y contains only one distinct value\n",
    "#     print(\"------------------------------------------------------->\", level, len(y),)\n",
    "    if ispure(y) or not len(unused_features):\n",
    "        print(\"Total: \", len(y))\n",
    "        counts = class_counts(y)\n",
    "        for k in counts:\n",
    "            print(\"Count of\", k, \"= \", counts[k])\n",
    "        print(\"Current Entropy is \", entropy(y))\n",
    "        print(\"Data Classified as: \", classify_data(y))\n",
    "        print(\"|| Reached Leaf Node ||\")\n",
    "        print()\n",
    "        return\n",
    "    \n",
    "    best_feature = find_best_split(df, y, unused_features)\n",
    "    print(\"Gain: \", gain(df, y, best_feature))\n",
    "        \n",
    "    # here you should know the best feature\n",
    "    # print it out\n",
    "    print(\"Best Feature \", best_feature)\n",
    "    print()\n",
    "    \n",
    "    # remove best feature from unused features\n",
    "    unused_features.remove(best_feature)\n",
    "    # loop over possible values of best feature\n",
    "    # call build tree recursively\n",
    "    possible_vals = set(df[best_feature])\n",
    "    for split_val in possible_vals:\n",
    "        new_df, new_y = split_data(df, y, best_feature, split_val)\n",
    "#         print(type(new_df), type(new_y))\n",
    "        print(\"Split for \", best_feature, \"== \", split_val)\n",
    "        print(\"----------------------------------\")\n",
    "        print_steps(new_df, new_y, unused_features, level + 1)"
   ]
  },
  {
   "cell_type": "code",
   "execution_count": 27,
   "metadata": {},
   "outputs": [
    {
     "name": "stdout",
     "output_type": "stream",
     "text": [
      "Level  0\n",
      "unused_features:  {'sl_labeled', 'sw_labeled', 'pl_labeled', 'pw_labeled'}\n",
      "Gain:  0.8752583089296135\n",
      "Best Feature  pw_labeled\n",
      "\n",
      "Split for  pw_labeled ==  a\n",
      "----------------------------------\n",
      "Level  1\n",
      "unused_features:  {'sl_labeled', 'sw_labeled', 'pl_labeled'}\n",
      "Total:  50\n",
      "Count of 0 =  50\n",
      "Current Entropy is  0.0\n",
      "Data Classified as:  0\n",
      "|| Reached Leaf Node ||\n",
      "\n",
      "Split for  pw_labeled ==  c\n",
      "----------------------------------\n",
      "Level  1\n",
      "unused_features:  {'sl_labeled', 'sw_labeled', 'pl_labeled'}\n",
      "Gain:  0.21536778951600982\n",
      "Best Feature  pl_labeled\n",
      "\n",
      "Split for  pl_labeled ==  c\n",
      "----------------------------------\n",
      "Level  2\n",
      "unused_features:  {'sl_labeled', 'sw_labeled'}\n",
      "Gain:  0.10945355973980492\n",
      "Best Feature  sl_labeled\n",
      "\n",
      "Split for  sl_labeled ==  a\n",
      "----------------------------------\n",
      "Level  3\n",
      "unused_features:  {'sw_labeled'}\n",
      "Total:  1\n",
      "Count of 2 =  1\n",
      "Current Entropy is  0.0\n",
      "Data Classified as:  2\n",
      "|| Reached Leaf Node ||\n",
      "\n",
      "Split for  sl_labeled ==  c\n",
      "----------------------------------\n",
      "Level  3\n",
      "unused_features:  {'sw_labeled'}\n",
      "Gain:  0.061051894017797426\n",
      "Best Feature  sw_labeled\n",
      "\n",
      "Split for  sw_labeled ==  a\n",
      "----------------------------------\n",
      "Level  4\n",
      "unused_features:  set()\n",
      "Total:  4\n",
      "Count of 1 =  3\n",
      "Count of 2 =  1\n",
      "Current Entropy is  0.5623351446188083\n",
      "Data Classified as:  1\n",
      "|| Reached Leaf Node ||\n",
      "\n",
      "Split for  sw_labeled ==  c\n",
      "----------------------------------\n",
      "Level  4\n",
      "unused_features:  set()\n",
      "Total:  6\n",
      "Count of 1 =  6\n",
      "Current Entropy is  0.0\n",
      "Data Classified as:  1\n",
      "|| Reached Leaf Node ||\n",
      "\n",
      "Split for  sw_labeled ==  b\n",
      "----------------------------------\n",
      "Level  4\n",
      "unused_features:  set()\n",
      "Total:  20\n",
      "Count of 1 =  14\n",
      "Count of 2 =  6\n",
      "Current Entropy is  0.6108643020548935\n",
      "Data Classified as:  1\n",
      "|| Reached Leaf Node ||\n",
      "\n",
      "Split for  sl_labeled ==  d\n",
      "----------------------------------\n",
      "Level  3\n",
      "unused_features:  set()\n",
      "Total:  2\n",
      "Count of 1 =  2\n",
      "Current Entropy is  0.0\n",
      "Data Classified as:  1\n",
      "|| Reached Leaf Node ||\n",
      "\n",
      "Split for  sl_labeled ==  b\n",
      "----------------------------------\n",
      "Level  3\n",
      "unused_features:  set()\n",
      "Total:  14\n",
      "Count of 1 =  14\n",
      "Current Entropy is  0.0\n",
      "Data Classified as:  1\n",
      "|| Reached Leaf Node ||\n",
      "\n",
      "Split for  pl_labeled ==  d\n",
      "----------------------------------\n",
      "Level  2\n",
      "unused_features:  set()\n",
      "Total:  8\n",
      "Count of 2 =  8\n",
      "Current Entropy is  0.0\n",
      "Data Classified as:  2\n",
      "|| Reached Leaf Node ||\n",
      "\n",
      "Split for  pl_labeled ==  b\n",
      "----------------------------------\n",
      "Level  2\n",
      "unused_features:  set()\n",
      "Total:  1\n",
      "Count of 1 =  1\n",
      "Current Entropy is  0.0\n",
      "Data Classified as:  1\n",
      "|| Reached Leaf Node ||\n",
      "\n",
      "Split for  pw_labeled ==  d\n",
      "----------------------------------\n",
      "Level  1\n",
      "unused_features:  set()\n",
      "Total:  34\n",
      "Count of 2 =  34\n",
      "Current Entropy is  0.0\n",
      "Data Classified as:  2\n",
      "|| Reached Leaf Node ||\n",
      "\n",
      "Split for  pw_labeled ==  b\n",
      "----------------------------------\n",
      "Level  1\n",
      "unused_features:  set()\n",
      "Total:  10\n",
      "Count of 1 =  10\n",
      "Current Entropy is  0.0\n",
      "Data Classified as:  1\n",
      "|| Reached Leaf Node ||\n",
      "\n"
     ]
    }
   ],
   "source": [
    "# y = pd.DataFrame(iris.target)\n",
    "unused_features = set(df.columns)\n",
    "print_steps(df, y, unused_features, 0)"
   ]
  },
  {
   "cell_type": "markdown",
   "metadata": {},
   "source": [
    "### Creating nodes for trees"
   ]
  },
  {
   "cell_type": "code",
   "execution_count": 28,
   "metadata": {},
   "outputs": [],
   "source": [
    "# leaf node of tree that classifies data\n",
    "# and has its dataset\n",
    "class LeafNode:\n",
    "    def __init__(self, df, y):\n",
    "        self.x = df\n",
    "        self.y = y\n",
    "        self.prediction = classify_data(y)  # assigning max occuring value"
   ]
  },
  {
   "cell_type": "code",
   "execution_count": 29,
   "metadata": {},
   "outputs": [],
   "source": [
    "# DecisionNode asks question according to which previous node\n",
    "# is to be splitted\n",
    "# branches will store all possible paths due to splitting as child nodes\n",
    "class DecisionNode:\n",
    "    def __init__(self,df, y, feature, branches):\n",
    "        self.x = df\n",
    "        self.y = y\n",
    "        self.question = feature\n",
    "        self.branches = branches"
   ]
  },
  {
   "cell_type": "markdown",
   "metadata": {},
   "source": [
    "### Building and printing tree"
   ]
  },
  {
   "cell_type": "code",
   "execution_count": 30,
   "metadata": {},
   "outputs": [],
   "source": [
    "def build_tree(df, y, unused_features):\n",
    "    # base case\n",
    "    # classify data with leaf node\n",
    "    if ispure(y) or not len(unused_features):\n",
    "        return LeafNode(df, y)\n",
    "    \n",
    "    # find best feature to split\n",
    "    best_feature = find_best_split(df, y, unused_features)\n",
    "    unused_features.remove(best_feature)\n",
    "    branches = []\n",
    "    \n",
    "    # for all possible vals of best_feature \n",
    "    # 1.split data\n",
    "    # 2.build tree of splitted data\n",
    "    # 3.append built tree to branches list\n",
    "    possible_vals = set(df[best_feature])\n",
    "    for split_val in possible_vals:\n",
    "        new_df, new_y = split_data(df, y, best_feature, split_val)\n",
    "        branches.append(build_tree(new_df, new_y, unused_features))\n",
    "    \n",
    "    # return decision node with best_f as question and\n",
    "    # built trees as branches\n",
    "    return DecisionNode(df, y, best_feature, branches)    "
   ]
  },
  {
   "cell_type": "code",
   "execution_count": 31,
   "metadata": {},
   "outputs": [],
   "source": [
    "unused_features = set(df.columns)\n",
    "tree = build_tree(df, y, unused_features)"
   ]
  },
  {
   "cell_type": "code",
   "execution_count": 32,
   "metadata": {},
   "outputs": [
    {
     "name": "stdout",
     "output_type": "stream",
     "text": [
      "[<__main__.LeafNode object at 0x7fd18e672a90>, <__main__.DecisionNode object at 0x7fd18e606a10>, <__main__.LeafNode object at 0x7fd18e606510>, <__main__.LeafNode object at 0x7fd18e606550>]\n"
     ]
    }
   ],
   "source": [
    "# demo of built tree\n",
    "print(tree.branches)\n",
    "# tree.branches[].branches[0].prediction"
   ]
  },
  {
   "cell_type": "code",
   "execution_count": 33,
   "metadata": {},
   "outputs": [],
   "source": [
    "def print_tree(root, spacing=\"\"):\n",
    "    # base case : reached leaf node\n",
    "    if isinstance(root, LeafNode):\n",
    "        print(spacing + \"Reached Leaf Node\")\n",
    "        print(spacing, class_counts(root.y)) #printing counts of all classes present\n",
    "        print(spacing + \"Prediction: \", root.prediction)\n",
    "        print()\n",
    "        return\n",
    "    \n",
    "    print(spacing + \"Question/Decision_Parameter: \", root.question+ \"??\")\n",
    "    split_col = root.question\n",
    "    print(spacing + \"Gain: \", gain(root.x, root.y, split_col))\n",
    "    spacing += \"      |\"\n",
    "    # call recursively for printing tree on child_nodes in branches\n",
    "    for child_node in root.branches:\n",
    "        print(spacing + \" == \", child_node.x[split_col].iloc[0]) #print branch of decision param.\n",
    "        print_tree(child_node, spacing) \n",
    "        print()"
   ]
  },
  {
   "cell_type": "code",
   "execution_count": 34,
   "metadata": {},
   "outputs": [
    {
     "name": "stdout",
     "output_type": "stream",
     "text": [
      "Question/Decision_Parameter:  pw_labeled??\n",
      "Gain:  0.8752583089296135\n",
      "      | ==  a\n",
      "      |Reached Leaf Node\n",
      "      | {0: 50}\n",
      "      |Prediction:  0\n",
      "\n",
      "\n",
      "      | ==  c\n",
      "      |Question/Decision_Parameter:  pl_labeled??\n",
      "      |Gain:  0.21536778951600982\n",
      "      |      | ==  c\n",
      "      |      |Question/Decision_Parameter:  sl_labeled??\n",
      "      |      |Gain:  0.10945355973980492\n",
      "      |      |      | ==  a\n",
      "      |      |      |Reached Leaf Node\n",
      "      |      |      | {2: 1}\n",
      "      |      |      |Prediction:  2\n",
      "\n",
      "\n",
      "      |      |      | ==  c\n",
      "      |      |      |Question/Decision_Parameter:  sw_labeled??\n",
      "      |      |      |Gain:  0.061051894017797426\n",
      "      |      |      |      | ==  a\n",
      "      |      |      |      |Reached Leaf Node\n",
      "      |      |      |      | {1: 3, 2: 1}\n",
      "      |      |      |      |Prediction:  1\n",
      "\n",
      "\n",
      "      |      |      |      | ==  c\n",
      "      |      |      |      |Reached Leaf Node\n",
      "      |      |      |      | {1: 6}\n",
      "      |      |      |      |Prediction:  1\n",
      "\n",
      "\n",
      "      |      |      |      | ==  b\n",
      "      |      |      |      |Reached Leaf Node\n",
      "      |      |      |      | {1: 14, 2: 6}\n",
      "      |      |      |      |Prediction:  1\n",
      "\n",
      "\n",
      "\n",
      "      |      |      | ==  d\n",
      "      |      |      |Reached Leaf Node\n",
      "      |      |      | {1: 2}\n",
      "      |      |      |Prediction:  1\n",
      "\n",
      "\n",
      "      |      |      | ==  b\n",
      "      |      |      |Reached Leaf Node\n",
      "      |      |      | {1: 14}\n",
      "      |      |      |Prediction:  1\n",
      "\n",
      "\n",
      "\n",
      "      |      | ==  d\n",
      "      |      |Reached Leaf Node\n",
      "      |      | {2: 8}\n",
      "      |      |Prediction:  2\n",
      "\n",
      "\n",
      "      |      | ==  b\n",
      "      |      |Reached Leaf Node\n",
      "      |      | {1: 1}\n",
      "      |      |Prediction:  1\n",
      "\n",
      "\n",
      "\n",
      "      | ==  d\n",
      "      |Reached Leaf Node\n",
      "      | {2: 34}\n",
      "      |Prediction:  2\n",
      "\n",
      "\n",
      "      | ==  b\n",
      "      |Reached Leaf Node\n",
      "      | {1: 10}\n",
      "      |Prediction:  1\n",
      "\n",
      "\n"
     ]
    }
   ],
   "source": [
    "print_tree(tree)"
   ]
  }
 ],
 "metadata": {
  "kernelspec": {
   "display_name": "Python 3",
   "language": "python",
   "name": "python3"
  },
  "language_info": {
   "codemirror_mode": {
    "name": "ipython",
    "version": 3
   },
   "file_extension": ".py",
   "mimetype": "text/x-python",
   "name": "python",
   "nbconvert_exporter": "python",
   "pygments_lexer": "ipython3",
   "version": "3.7.4"
  }
 },
 "nbformat": 4,
 "nbformat_minor": 1
}
